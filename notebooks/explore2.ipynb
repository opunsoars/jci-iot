{
 "cells": [
  {
   "cell_type": "code",
   "execution_count": 6,
   "metadata": {},
   "outputs": [],
   "source": [
    "import glob\n",
    "import pandas as pd\n",
    "import qgrid\n",
    "\n",
    "col_opts = { 'editable': False }\n",
    "# col_defs = { 'A': { 'editable': True } }\n"
   ]
  },
  {
   "cell_type": "code",
   "execution_count": 15,
   "metadata": {},
   "outputs": [
    {
     "name": "stdout",
     "output_type": "stream",
     "text": [
      "../data/01.csv: 59551 rows | data: 59551 rows\n",
      "../data/02.csv: 59331 rows | data: 118882 rows\n",
      "../data/05.csv: 59607 rows | data: 178489 rows\n",
      "../data/07.csv: 59576 rows | data: 238065 rows\n",
      "../data/08.csv: 54859 rows | data: 292924 rows\n",
      "../data/09.csv: 59622 rows | data: 352546 rows\n",
      "../data/10.csv: 59494 rows | data: 412040 rows\n",
      "../data/12.csv: 59365 rows | data: 471405 rows\n",
      "../data/16.csv: 23710 rows | data: 495115 rows\n",
      "(495115, 10)\n"
     ]
    }
   ],
   "source": [
    "data = pd.DataFrame()\n",
    "for file_ in glob.glob('../data/*.csv'):\n",
    "    df = pd.read_csv(file_,skiprows=5)\n",
    "    df['playerid'] = file_[-6:-4]\n",
    "    data = pd.concat([data,df])\n",
    "    print (f\"{file_}: {df.shape[0]} rows | data: {data.shape[0]} rows\")\n",
    "print (data.shape)\n",
    "data['datetime'] = data[\"time[ISO-UTC]\"].apply(lambda x: pd.to_datetime(f\"{x.replace('T','')[:-3]}.{x[-3:]}\", format= \"%Y%m%d%H%M%S.%f\"))\n",
    "data['t'] = data['datetime'].dt.time"
   ]
  },
  {
   "cell_type": "code",
   "execution_count": 18,
   "metadata": {},
   "outputs": [
    {
     "data": {
      "application/vnd.jupyter.widget-view+json": {
       "model_id": "99e47c4817954b91836a040d0a9bb5cf",
       "version_major": 2,
       "version_minor": 0
      },
      "text/plain": [
       "QgridWidget(grid_options={'fullWidthRows': True, 'syncColumnCellResize': True, 'forceFitColumns': True, 'defau…"
      ]
     },
     "metadata": {},
     "output_type": "display_data"
    }
   ],
   "source": [
    "qgrid.show_grid(data, column_options=col_opts)"
   ]
  },
  {
   "cell_type": "markdown",
   "metadata": {},
   "source": [
    "# advent of code"
   ]
  },
  {
   "cell_type": "code",
   "execution_count": 2,
   "metadata": {},
   "outputs": [
    {
     "name": "stdout",
     "output_type": "stream",
     "text": [
      "Requirement already satisfied: jupyter_contrib_nbextensions in /home/opunsoars/.local/lib/python3.7/site-packages (0.5.1)\n",
      "Requirement already satisfied: pyyaml in /home/opunsoars/.local/lib/python3.7/site-packages (from jupyter_contrib_nbextensions) (5.3.1)\n",
      "Requirement already satisfied: ipython-genutils in /mnt/d/xFootball/JCI/jci_iot/.env/lib/python3.7/site-packages (from jupyter_contrib_nbextensions) (0.2.0)\n",
      "Requirement already satisfied: jupyter-core in /mnt/d/xFootball/JCI/jci_iot/.env/lib/python3.7/site-packages (from jupyter_contrib_nbextensions) (4.7.0)\n",
      "Requirement already satisfied: traitlets>=4.1 in /mnt/d/xFootball/JCI/jci_iot/.env/lib/python3.7/site-packages (from jupyter_contrib_nbextensions) (5.0.5)\n",
      "Requirement already satisfied: jupyter-nbextensions-configurator>=0.4.0 in /home/opunsoars/.local/lib/python3.7/site-packages (from jupyter_contrib_nbextensions) (0.4.1)\n",
      "Requirement already satisfied: lxml in /home/opunsoars/.local/lib/python3.7/site-packages (from jupyter_contrib_nbextensions) (4.6.2)\n",
      "Requirement already satisfied: tornado in /mnt/d/xFootball/JCI/jci_iot/.env/lib/python3.7/site-packages (from jupyter_contrib_nbextensions) (6.1)\n",
      "Requirement already satisfied: jupyter-highlight-selected-word>=0.1.1 in /home/opunsoars/.local/lib/python3.7/site-packages (from jupyter_contrib_nbextensions) (0.2.0)\n",
      "Requirement already satisfied: notebook>=4.0 in /mnt/d/xFootball/JCI/jci_iot/.env/lib/python3.7/site-packages (from jupyter_contrib_nbextensions) (6.1.5)\n",
      "Requirement already satisfied: nbconvert>=4.2 in /mnt/d/xFootball/JCI/jci_iot/.env/lib/python3.7/site-packages (from jupyter_contrib_nbextensions) (6.0.7)\n",
      "Requirement already satisfied: jupyter-latex-envs>=1.3.8 in /home/opunsoars/.local/lib/python3.7/site-packages (from jupyter_contrib_nbextensions) (1.4.6)\n",
      "Requirement already satisfied: jupyter-contrib-core>=0.3.3 in /home/opunsoars/.local/lib/python3.7/site-packages (from jupyter_contrib_nbextensions) (0.3.3)\n",
      "Requirement already satisfied: argon2-cffi in /mnt/d/xFootball/JCI/jci_iot/.env/lib/python3.7/site-packages (from notebook>=4.0->jupyter_contrib_nbextensions) (20.1.0)\n",
      "Requirement already satisfied: jupyter-client>=5.3.4 in /mnt/d/xFootball/JCI/jci_iot/.env/lib/python3.7/site-packages (from notebook>=4.0->jupyter_contrib_nbextensions) (6.1.7)\n",
      "Requirement already satisfied: nbformat in /mnt/d/xFootball/JCI/jci_iot/.env/lib/python3.7/site-packages (from notebook>=4.0->jupyter_contrib_nbextensions) (5.0.8)\n",
      "Requirement already satisfied: ipykernel in /mnt/d/xFootball/JCI/jci_iot/.env/lib/python3.7/site-packages (from notebook>=4.0->jupyter_contrib_nbextensions) (5.3.4)\n",
      "Requirement already satisfied: Send2Trash in /mnt/d/xFootball/JCI/jci_iot/.env/lib/python3.7/site-packages (from notebook>=4.0->jupyter_contrib_nbextensions) (1.5.0)\n",
      "Requirement already satisfied: jinja2 in /mnt/d/xFootball/JCI/jci_iot/.env/lib/python3.7/site-packages (from notebook>=4.0->jupyter_contrib_nbextensions) (2.11.2)\n",
      "Requirement already satisfied: prometheus-client in /mnt/d/xFootball/JCI/jci_iot/.env/lib/python3.7/site-packages (from notebook>=4.0->jupyter_contrib_nbextensions) (0.9.0)\n",
      "Requirement already satisfied: terminado>=0.8.3 in /mnt/d/xFootball/JCI/jci_iot/.env/lib/python3.7/site-packages (from notebook>=4.0->jupyter_contrib_nbextensions) (0.9.1)\n",
      "Requirement already satisfied: pyzmq>=17 in /mnt/d/xFootball/JCI/jci_iot/.env/lib/python3.7/site-packages (from notebook>=4.0->jupyter_contrib_nbextensions) (20.0.0)\n",
      "Requirement already satisfied: nbclient<0.6.0,>=0.5.0 in /mnt/d/xFootball/JCI/jci_iot/.env/lib/python3.7/site-packages (from nbconvert>=4.2->jupyter_contrib_nbextensions) (0.5.1)\n",
      "Requirement already satisfied: bleach in /mnt/d/xFootball/JCI/jci_iot/.env/lib/python3.7/site-packages (from nbconvert>=4.2->jupyter_contrib_nbextensions) (3.2.1)\n",
      "Requirement already satisfied: mistune<2,>=0.8.1 in /mnt/d/xFootball/JCI/jci_iot/.env/lib/python3.7/site-packages (from nbconvert>=4.2->jupyter_contrib_nbextensions) (0.8.4)\n",
      "Requirement already satisfied: pygments>=2.4.1 in /mnt/d/xFootball/JCI/jci_iot/.env/lib/python3.7/site-packages (from nbconvert>=4.2->jupyter_contrib_nbextensions) (2.7.2)\n",
      "Requirement already satisfied: defusedxml in /mnt/d/xFootball/JCI/jci_iot/.env/lib/python3.7/site-packages (from nbconvert>=4.2->jupyter_contrib_nbextensions) (0.6.0)\n",
      "Requirement already satisfied: testpath in /mnt/d/xFootball/JCI/jci_iot/.env/lib/python3.7/site-packages (from nbconvert>=4.2->jupyter_contrib_nbextensions) (0.4.4)\n",
      "Requirement already satisfied: jupyterlab-pygments in /mnt/d/xFootball/JCI/jci_iot/.env/lib/python3.7/site-packages (from nbconvert>=4.2->jupyter_contrib_nbextensions) (0.1.2)\n",
      "Requirement already satisfied: pandocfilters>=1.4.1 in /mnt/d/xFootball/JCI/jci_iot/.env/lib/python3.7/site-packages (from nbconvert>=4.2->jupyter_contrib_nbextensions) (1.4.3)\n",
      "Requirement already satisfied: entrypoints>=0.2.2 in /mnt/d/xFootball/JCI/jci_iot/.env/lib/python3.7/site-packages (from nbconvert>=4.2->jupyter_contrib_nbextensions) (0.3)\n",
      "Requirement already satisfied: ipython in /mnt/d/xFootball/JCI/jci_iot/.env/lib/python3.7/site-packages (from jupyter-latex-envs>=1.3.8->jupyter_contrib_nbextensions) (7.19.0)\n",
      "Requirement already satisfied: setuptools in /mnt/d/xFootball/JCI/jci_iot/.env/lib/python3.7/site-packages (from jupyter-contrib-core>=0.3.3->jupyter_contrib_nbextensions) (50.3.1.post20201107)\n",
      "Requirement already satisfied: cffi>=1.0.0 in /mnt/d/xFootball/JCI/jci_iot/.env/lib/python3.7/site-packages (from argon2-cffi->notebook>=4.0->jupyter_contrib_nbextensions) (1.14.4)\n",
      "Requirement already satisfied: six in /mnt/d/xFootball/JCI/jci_iot/.env/lib/python3.7/site-packages (from argon2-cffi->notebook>=4.0->jupyter_contrib_nbextensions) (1.15.0)\n",
      "Requirement already satisfied: python-dateutil>=2.1 in /mnt/d/xFootball/JCI/jci_iot/.env/lib/python3.7/site-packages (from jupyter-client>=5.3.4->notebook>=4.0->jupyter_contrib_nbextensions) (2.8.1)\n",
      "Requirement already satisfied: jsonschema!=2.5.0,>=2.4 in /mnt/d/xFootball/JCI/jci_iot/.env/lib/python3.7/site-packages (from nbformat->notebook>=4.0->jupyter_contrib_nbextensions) (3.2.0)\n",
      "Requirement already satisfied: MarkupSafe>=0.23 in /mnt/d/xFootball/JCI/jci_iot/.env/lib/python3.7/site-packages (from jinja2->notebook>=4.0->jupyter_contrib_nbextensions) (1.1.1)\n",
      "Requirement already satisfied: ptyprocess; os_name != \"nt\" in /mnt/d/xFootball/JCI/jci_iot/.env/lib/python3.7/site-packages (from terminado>=0.8.3->notebook>=4.0->jupyter_contrib_nbextensions) (0.6.0)\n",
      "Requirement already satisfied: async-generator in /mnt/d/xFootball/JCI/jci_iot/.env/lib/python3.7/site-packages (from nbclient<0.6.0,>=0.5.0->nbconvert>=4.2->jupyter_contrib_nbextensions) (1.10)\n",
      "Requirement already satisfied: nest-asyncio in /mnt/d/xFootball/JCI/jci_iot/.env/lib/python3.7/site-packages (from nbclient<0.6.0,>=0.5.0->nbconvert>=4.2->jupyter_contrib_nbextensions) (1.4.3)\n",
      "Requirement already satisfied: webencodings in /mnt/d/xFootball/JCI/jci_iot/.env/lib/python3.7/site-packages (from bleach->nbconvert>=4.2->jupyter_contrib_nbextensions) (0.5.1)\n",
      "Requirement already satisfied: packaging in /mnt/d/xFootball/JCI/jci_iot/.env/lib/python3.7/site-packages (from bleach->nbconvert>=4.2->jupyter_contrib_nbextensions) (20.4)\n",
      "Requirement already satisfied: prompt-toolkit!=3.0.0,!=3.0.1,<3.1.0,>=2.0.0 in /mnt/d/xFootball/JCI/jci_iot/.env/lib/python3.7/site-packages (from ipython->jupyter-latex-envs>=1.3.8->jupyter_contrib_nbextensions) (3.0.8)\n",
      "Requirement already satisfied: backcall in /mnt/d/xFootball/JCI/jci_iot/.env/lib/python3.7/site-packages (from ipython->jupyter-latex-envs>=1.3.8->jupyter_contrib_nbextensions) (0.2.0)\n",
      "Requirement already satisfied: decorator in /mnt/d/xFootball/JCI/jci_iot/.env/lib/python3.7/site-packages (from ipython->jupyter-latex-envs>=1.3.8->jupyter_contrib_nbextensions) (4.4.2)\n",
      "Requirement already satisfied: pexpect>4.3; sys_platform != \"win32\" in /mnt/d/xFootball/JCI/jci_iot/.env/lib/python3.7/site-packages (from ipython->jupyter-latex-envs>=1.3.8->jupyter_contrib_nbextensions) (4.8.0)\n",
      "Requirement already satisfied: jedi>=0.10 in /mnt/d/xFootball/JCI/jci_iot/.env/lib/python3.7/site-packages (from ipython->jupyter-latex-envs>=1.3.8->jupyter_contrib_nbextensions) (0.17.2)\n",
      "Requirement already satisfied: pickleshare in /mnt/d/xFootball/JCI/jci_iot/.env/lib/python3.7/site-packages (from ipython->jupyter-latex-envs>=1.3.8->jupyter_contrib_nbextensions) (0.7.5)\n",
      "Requirement already satisfied: pycparser in /mnt/d/xFootball/JCI/jci_iot/.env/lib/python3.7/site-packages (from cffi>=1.0.0->argon2-cffi->notebook>=4.0->jupyter_contrib_nbextensions) (2.20)\n",
      "Requirement already satisfied: pyrsistent>=0.14.0 in /mnt/d/xFootball/JCI/jci_iot/.env/lib/python3.7/site-packages (from jsonschema!=2.5.0,>=2.4->nbformat->notebook>=4.0->jupyter_contrib_nbextensions) (0.17.3)\n",
      "Requirement already satisfied: importlib-metadata; python_version < \"3.8\" in /mnt/d/xFootball/JCI/jci_iot/.env/lib/python3.7/site-packages (from jsonschema!=2.5.0,>=2.4->nbformat->notebook>=4.0->jupyter_contrib_nbextensions) (3.1.0)\n",
      "Requirement already satisfied: attrs>=17.4.0 in /mnt/d/xFootball/JCI/jci_iot/.env/lib/python3.7/site-packages (from jsonschema!=2.5.0,>=2.4->nbformat->notebook>=4.0->jupyter_contrib_nbextensions) (20.3.0)\n",
      "Requirement already satisfied: pyparsing>=2.0.2 in /mnt/d/xFootball/JCI/jci_iot/.env/lib/python3.7/site-packages (from packaging->bleach->nbconvert>=4.2->jupyter_contrib_nbextensions) (2.4.7)\n",
      "Requirement already satisfied: wcwidth in /mnt/d/xFootball/JCI/jci_iot/.env/lib/python3.7/site-packages (from prompt-toolkit!=3.0.0,!=3.0.1,<3.1.0,>=2.0.0->ipython->jupyter-latex-envs>=1.3.8->jupyter_contrib_nbextensions) (0.2.5)\n",
      "Requirement already satisfied: parso<0.8.0,>=0.7.0 in /mnt/d/xFootball/JCI/jci_iot/.env/lib/python3.7/site-packages (from jedi>=0.10->ipython->jupyter-latex-envs>=1.3.8->jupyter_contrib_nbextensions) (0.7.1)\n",
      "Requirement already satisfied: zipp>=0.5 in /mnt/d/xFootball/JCI/jci_iot/.env/lib/python3.7/site-packages (from importlib-metadata; python_version < \"3.8\"->jsonschema!=2.5.0,>=2.4->nbformat->notebook>=4.0->jupyter_contrib_nbextensions) (3.4.0)\n",
      "Requirement already satisfied: jupyter_nbextensions_configurator in /home/opunsoars/.local/lib/python3.7/site-packages (0.4.1)\n",
      "Requirement already satisfied: jupyter-core in /mnt/d/xFootball/JCI/jci_iot/.env/lib/python3.7/site-packages (from jupyter_nbextensions_configurator) (4.7.0)\n",
      "Requirement already satisfied: tornado in /mnt/d/xFootball/JCI/jci_iot/.env/lib/python3.7/site-packages (from jupyter_nbextensions_configurator) (6.1)\n",
      "Requirement already satisfied: traitlets in /mnt/d/xFootball/JCI/jci_iot/.env/lib/python3.7/site-packages (from jupyter_nbextensions_configurator) (5.0.5)\n",
      "Requirement already satisfied: notebook>=4.0 in /mnt/d/xFootball/JCI/jci_iot/.env/lib/python3.7/site-packages (from jupyter_nbextensions_configurator) (6.1.5)\n",
      "Requirement already satisfied: jupyter-contrib-core>=0.3.3 in /home/opunsoars/.local/lib/python3.7/site-packages (from jupyter_nbextensions_configurator) (0.3.3)\n",
      "Requirement already satisfied: pyyaml in /home/opunsoars/.local/lib/python3.7/site-packages (from jupyter_nbextensions_configurator) (5.3.1)\n",
      "Requirement already satisfied: ipython-genutils in /mnt/d/xFootball/JCI/jci_iot/.env/lib/python3.7/site-packages (from traitlets->jupyter_nbextensions_configurator) (0.2.0)\n",
      "Requirement already satisfied: ipykernel in /mnt/d/xFootball/JCI/jci_iot/.env/lib/python3.7/site-packages (from notebook>=4.0->jupyter_nbextensions_configurator) (5.3.4)\n",
      "Requirement already satisfied: argon2-cffi in /mnt/d/xFootball/JCI/jci_iot/.env/lib/python3.7/site-packages (from notebook>=4.0->jupyter_nbextensions_configurator) (20.1.0)\n",
      "Requirement already satisfied: jupyter-client>=5.3.4 in /mnt/d/xFootball/JCI/jci_iot/.env/lib/python3.7/site-packages (from notebook>=4.0->jupyter_nbextensions_configurator) (6.1.7)\n",
      "Requirement already satisfied: terminado>=0.8.3 in /mnt/d/xFootball/JCI/jci_iot/.env/lib/python3.7/site-packages (from notebook>=4.0->jupyter_nbextensions_configurator) (0.9.1)\n",
      "Requirement already satisfied: prometheus-client in /mnt/d/xFootball/JCI/jci_iot/.env/lib/python3.7/site-packages (from notebook>=4.0->jupyter_nbextensions_configurator) (0.9.0)\n",
      "Requirement already satisfied: jinja2 in /mnt/d/xFootball/JCI/jci_iot/.env/lib/python3.7/site-packages (from notebook>=4.0->jupyter_nbextensions_configurator) (2.11.2)\n",
      "Requirement already satisfied: nbformat in /mnt/d/xFootball/JCI/jci_iot/.env/lib/python3.7/site-packages (from notebook>=4.0->jupyter_nbextensions_configurator) (5.0.8)\n",
      "Requirement already satisfied: nbconvert in /mnt/d/xFootball/JCI/jci_iot/.env/lib/python3.7/site-packages (from notebook>=4.0->jupyter_nbextensions_configurator) (6.0.7)\n",
      "Requirement already satisfied: Send2Trash in /mnt/d/xFootball/JCI/jci_iot/.env/lib/python3.7/site-packages (from notebook>=4.0->jupyter_nbextensions_configurator) (1.5.0)\n",
      "Requirement already satisfied: pyzmq>=17 in /mnt/d/xFootball/JCI/jci_iot/.env/lib/python3.7/site-packages (from notebook>=4.0->jupyter_nbextensions_configurator) (20.0.0)\n",
      "Requirement already satisfied: setuptools in /mnt/d/xFootball/JCI/jci_iot/.env/lib/python3.7/site-packages (from jupyter-contrib-core>=0.3.3->jupyter_nbextensions_configurator) (50.3.1.post20201107)\n",
      "Requirement already satisfied: ipython>=5.0.0 in /mnt/d/xFootball/JCI/jci_iot/.env/lib/python3.7/site-packages (from ipykernel->notebook>=4.0->jupyter_nbextensions_configurator) (7.19.0)\n",
      "Requirement already satisfied: cffi>=1.0.0 in /mnt/d/xFootball/JCI/jci_iot/.env/lib/python3.7/site-packages (from argon2-cffi->notebook>=4.0->jupyter_nbextensions_configurator) (1.14.4)\n",
      "Requirement already satisfied: six in /mnt/d/xFootball/JCI/jci_iot/.env/lib/python3.7/site-packages (from argon2-cffi->notebook>=4.0->jupyter_nbextensions_configurator) (1.15.0)\n",
      "Requirement already satisfied: python-dateutil>=2.1 in /mnt/d/xFootball/JCI/jci_iot/.env/lib/python3.7/site-packages (from jupyter-client>=5.3.4->notebook>=4.0->jupyter_nbextensions_configurator) (2.8.1)\n",
      "Requirement already satisfied: ptyprocess; os_name != \"nt\" in /mnt/d/xFootball/JCI/jci_iot/.env/lib/python3.7/site-packages (from terminado>=0.8.3->notebook>=4.0->jupyter_nbextensions_configurator) (0.6.0)\n",
      "Requirement already satisfied: MarkupSafe>=0.23 in /mnt/d/xFootball/JCI/jci_iot/.env/lib/python3.7/site-packages (from jinja2->notebook>=4.0->jupyter_nbextensions_configurator) (1.1.1)\n",
      "Requirement already satisfied: jsonschema!=2.5.0,>=2.4 in /mnt/d/xFootball/JCI/jci_iot/.env/lib/python3.7/site-packages (from nbformat->notebook>=4.0->jupyter_nbextensions_configurator) (3.2.0)\n",
      "Requirement already satisfied: pandocfilters>=1.4.1 in /mnt/d/xFootball/JCI/jci_iot/.env/lib/python3.7/site-packages (from nbconvert->notebook>=4.0->jupyter_nbextensions_configurator) (1.4.3)\n",
      "Requirement already satisfied: nbclient<0.6.0,>=0.5.0 in /mnt/d/xFootball/JCI/jci_iot/.env/lib/python3.7/site-packages (from nbconvert->notebook>=4.0->jupyter_nbextensions_configurator) (0.5.1)\n",
      "Requirement already satisfied: entrypoints>=0.2.2 in /mnt/d/xFootball/JCI/jci_iot/.env/lib/python3.7/site-packages (from nbconvert->notebook>=4.0->jupyter_nbextensions_configurator) (0.3)\n",
      "Requirement already satisfied: pygments>=2.4.1 in /mnt/d/xFootball/JCI/jci_iot/.env/lib/python3.7/site-packages (from nbconvert->notebook>=4.0->jupyter_nbextensions_configurator) (2.7.2)\n",
      "Requirement already satisfied: jupyterlab-pygments in /mnt/d/xFootball/JCI/jci_iot/.env/lib/python3.7/site-packages (from nbconvert->notebook>=4.0->jupyter_nbextensions_configurator) (0.1.2)\n",
      "Requirement already satisfied: mistune<2,>=0.8.1 in /mnt/d/xFootball/JCI/jci_iot/.env/lib/python3.7/site-packages (from nbconvert->notebook>=4.0->jupyter_nbextensions_configurator) (0.8.4)\n",
      "Requirement already satisfied: testpath in /mnt/d/xFootball/JCI/jci_iot/.env/lib/python3.7/site-packages (from nbconvert->notebook>=4.0->jupyter_nbextensions_configurator) (0.4.4)\n",
      "Requirement already satisfied: defusedxml in /mnt/d/xFootball/JCI/jci_iot/.env/lib/python3.7/site-packages (from nbconvert->notebook>=4.0->jupyter_nbextensions_configurator) (0.6.0)\n",
      "Requirement already satisfied: bleach in /mnt/d/xFootball/JCI/jci_iot/.env/lib/python3.7/site-packages (from nbconvert->notebook>=4.0->jupyter_nbextensions_configurator) (3.2.1)\n",
      "Requirement already satisfied: pickleshare in /mnt/d/xFootball/JCI/jci_iot/.env/lib/python3.7/site-packages (from ipython>=5.0.0->ipykernel->notebook>=4.0->jupyter_nbextensions_configurator) (0.7.5)\n",
      "Requirement already satisfied: decorator in /mnt/d/xFootball/JCI/jci_iot/.env/lib/python3.7/site-packages (from ipython>=5.0.0->ipykernel->notebook>=4.0->jupyter_nbextensions_configurator) (4.4.2)\n",
      "Requirement already satisfied: jedi>=0.10 in /mnt/d/xFootball/JCI/jci_iot/.env/lib/python3.7/site-packages (from ipython>=5.0.0->ipykernel->notebook>=4.0->jupyter_nbextensions_configurator) (0.17.2)\n",
      "Requirement already satisfied: backcall in /mnt/d/xFootball/JCI/jci_iot/.env/lib/python3.7/site-packages (from ipython>=5.0.0->ipykernel->notebook>=4.0->jupyter_nbextensions_configurator) (0.2.0)\n",
      "Requirement already satisfied: pexpect>4.3; sys_platform != \"win32\" in /mnt/d/xFootball/JCI/jci_iot/.env/lib/python3.7/site-packages (from ipython>=5.0.0->ipykernel->notebook>=4.0->jupyter_nbextensions_configurator) (4.8.0)\n",
      "Requirement already satisfied: prompt-toolkit!=3.0.0,!=3.0.1,<3.1.0,>=2.0.0 in /mnt/d/xFootball/JCI/jci_iot/.env/lib/python3.7/site-packages (from ipython>=5.0.0->ipykernel->notebook>=4.0->jupyter_nbextensions_configurator) (3.0.8)\n",
      "Requirement already satisfied: pycparser in /mnt/d/xFootball/JCI/jci_iot/.env/lib/python3.7/site-packages (from cffi>=1.0.0->argon2-cffi->notebook>=4.0->jupyter_nbextensions_configurator) (2.20)\n",
      "Requirement already satisfied: pyrsistent>=0.14.0 in /mnt/d/xFootball/JCI/jci_iot/.env/lib/python3.7/site-packages (from jsonschema!=2.5.0,>=2.4->nbformat->notebook>=4.0->jupyter_nbextensions_configurator) (0.17.3)\n",
      "Requirement already satisfied: attrs>=17.4.0 in /mnt/d/xFootball/JCI/jci_iot/.env/lib/python3.7/site-packages (from jsonschema!=2.5.0,>=2.4->nbformat->notebook>=4.0->jupyter_nbextensions_configurator) (20.3.0)\n",
      "Requirement already satisfied: importlib-metadata; python_version < \"3.8\" in /mnt/d/xFootball/JCI/jci_iot/.env/lib/python3.7/site-packages (from jsonschema!=2.5.0,>=2.4->nbformat->notebook>=4.0->jupyter_nbextensions_configurator) (3.1.0)\n",
      "Requirement already satisfied: async-generator in /mnt/d/xFootball/JCI/jci_iot/.env/lib/python3.7/site-packages (from nbclient<0.6.0,>=0.5.0->nbconvert->notebook>=4.0->jupyter_nbextensions_configurator) (1.10)\n",
      "Requirement already satisfied: nest-asyncio in /mnt/d/xFootball/JCI/jci_iot/.env/lib/python3.7/site-packages (from nbclient<0.6.0,>=0.5.0->nbconvert->notebook>=4.0->jupyter_nbextensions_configurator) (1.4.3)\n",
      "Requirement already satisfied: webencodings in /mnt/d/xFootball/JCI/jci_iot/.env/lib/python3.7/site-packages (from bleach->nbconvert->notebook>=4.0->jupyter_nbextensions_configurator) (0.5.1)\n",
      "Requirement already satisfied: packaging in /mnt/d/xFootball/JCI/jci_iot/.env/lib/python3.7/site-packages (from bleach->nbconvert->notebook>=4.0->jupyter_nbextensions_configurator) (20.4)\n",
      "Requirement already satisfied: parso<0.8.0,>=0.7.0 in /mnt/d/xFootball/JCI/jci_iot/.env/lib/python3.7/site-packages (from jedi>=0.10->ipython>=5.0.0->ipykernel->notebook>=4.0->jupyter_nbextensions_configurator) (0.7.1)\n",
      "Requirement already satisfied: wcwidth in /mnt/d/xFootball/JCI/jci_iot/.env/lib/python3.7/site-packages (from prompt-toolkit!=3.0.0,!=3.0.1,<3.1.0,>=2.0.0->ipython>=5.0.0->ipykernel->notebook>=4.0->jupyter_nbextensions_configurator) (0.2.5)\n",
      "Requirement already satisfied: zipp>=0.5 in /mnt/d/xFootball/JCI/jci_iot/.env/lib/python3.7/site-packages (from importlib-metadata; python_version < \"3.8\"->jsonschema!=2.5.0,>=2.4->nbformat->notebook>=4.0->jupyter_nbextensions_configurator) (3.4.0)\n",
      "Requirement already satisfied: pyparsing>=2.0.2 in /mnt/d/xFootball/JCI/jci_iot/.env/lib/python3.7/site-packages (from packaging->bleach->nbconvert->notebook>=4.0->jupyter_nbextensions_configurator) (2.4.7)\n"
     ]
    },
    {
     "name": "stderr",
     "output_type": "stream",
     "text": [
      "Traceback (most recent call last):\n",
      "  File \"/mnt/d/xFootball/JCI/jci_iot/.env/bin/jupyter\", line 8, in <module>\n",
      "    sys.exit(main())\n",
      "  File \"/mnt/d/xFootball/JCI/jci_iot/.env/lib/python3.7/site-packages/jupyter_core/command.py\", line 285, in main\n",
      "    command = _jupyter_abspath(subcommand)\n",
      "  File \"/mnt/d/xFootball/JCI/jci_iot/.env/lib/python3.7/site-packages/jupyter_core/command.py\", line 125, in _jupyter_abspath\n",
      "    'Jupyter command `{}` not found.'.format(jupyter_subcommand)\n",
      "Exception: Jupyter command `jupyter-contrib` not found.\n",
      "Traceback (most recent call last):\n",
      "  File \"/mnt/d/xFootball/JCI/jci_iot/.env/bin/jupyter\", line 8, in <module>\n",
      "    sys.exit(main())\n",
      "  File \"/mnt/d/xFootball/JCI/jci_iot/.env/lib/python3.7/site-packages/jupyter_core/command.py\", line 285, in main\n",
      "    command = _jupyter_abspath(subcommand)\n",
      "  File \"/mnt/d/xFootball/JCI/jci_iot/.env/lib/python3.7/site-packages/jupyter_core/command.py\", line 125, in _jupyter_abspath\n",
      "    'Jupyter command `{}` not found.'.format(jupyter_subcommand)\n",
      "Exception: Jupyter command `jupyter-nbextensions_configurator` not found.\n"
     ]
    },
    {
     "ename": "CalledProcessError",
     "evalue": "Command 'b'python -m pip install --user jupyter_contrib_nbextensions  \\njupyter contrib nbextension install --user --skip-running-check  \\npython -m pip install --user jupyter_nbextensions_configurator  \\njupyter nbextensions_configurator enable --user  \\n'' returned non-zero exit status 1.",
     "output_type": "error",
     "traceback": [
      "\u001b[0;31m---------------------------------------------------------------------------\u001b[0m",
      "\u001b[0;31mCalledProcessError\u001b[0m                        Traceback (most recent call last)",
      "\u001b[0;32m<ipython-input-2-cfaf1bb97688>\u001b[0m in \u001b[0;36m<module>\u001b[0;34m\u001b[0m\n\u001b[0;32m----> 1\u001b[0;31m \u001b[0mget_ipython\u001b[0m\u001b[0;34m(\u001b[0m\u001b[0;34m)\u001b[0m\u001b[0;34m.\u001b[0m\u001b[0mrun_cell_magic\u001b[0m\u001b[0;34m(\u001b[0m\u001b[0;34m'sh'\u001b[0m\u001b[0;34m,\u001b[0m \u001b[0;34m''\u001b[0m\u001b[0;34m,\u001b[0m \u001b[0;34m'python -m pip install --user jupyter_contrib_nbextensions  \\njupyter contrib nbextension install --user --skip-running-check  \\npython -m pip install --user jupyter_nbextensions_configurator  \\njupyter nbextensions_configurator enable --user  \\n'\u001b[0m\u001b[0;34m)\u001b[0m\u001b[0;34m\u001b[0m\u001b[0;34m\u001b[0m\u001b[0m\n\u001b[0m",
      "\u001b[0;32m/mnt/d/xFootball/JCI/jci_iot/.env/lib/python3.7/site-packages/IPython/core/interactiveshell.py\u001b[0m in \u001b[0;36mrun_cell_magic\u001b[0;34m(self, magic_name, line, cell)\u001b[0m\n\u001b[1;32m   2380\u001b[0m             \u001b[0;32mwith\u001b[0m \u001b[0mself\u001b[0m\u001b[0;34m.\u001b[0m\u001b[0mbuiltin_trap\u001b[0m\u001b[0;34m:\u001b[0m\u001b[0;34m\u001b[0m\u001b[0;34m\u001b[0m\u001b[0m\n\u001b[1;32m   2381\u001b[0m                 \u001b[0margs\u001b[0m \u001b[0;34m=\u001b[0m \u001b[0;34m(\u001b[0m\u001b[0mmagic_arg_s\u001b[0m\u001b[0;34m,\u001b[0m \u001b[0mcell\u001b[0m\u001b[0;34m)\u001b[0m\u001b[0;34m\u001b[0m\u001b[0;34m\u001b[0m\u001b[0m\n\u001b[0;32m-> 2382\u001b[0;31m                 \u001b[0mresult\u001b[0m \u001b[0;34m=\u001b[0m \u001b[0mfn\u001b[0m\u001b[0;34m(\u001b[0m\u001b[0;34m*\u001b[0m\u001b[0margs\u001b[0m\u001b[0;34m,\u001b[0m \u001b[0;34m**\u001b[0m\u001b[0mkwargs\u001b[0m\u001b[0;34m)\u001b[0m\u001b[0;34m\u001b[0m\u001b[0;34m\u001b[0m\u001b[0m\n\u001b[0m\u001b[1;32m   2383\u001b[0m             \u001b[0;32mreturn\u001b[0m \u001b[0mresult\u001b[0m\u001b[0;34m\u001b[0m\u001b[0;34m\u001b[0m\u001b[0m\n\u001b[1;32m   2384\u001b[0m \u001b[0;34m\u001b[0m\u001b[0m\n",
      "\u001b[0;32m/mnt/d/xFootball/JCI/jci_iot/.env/lib/python3.7/site-packages/IPython/core/magics/script.py\u001b[0m in \u001b[0;36mnamed_script_magic\u001b[0;34m(line, cell)\u001b[0m\n\u001b[1;32m    140\u001b[0m             \u001b[0;32melse\u001b[0m\u001b[0;34m:\u001b[0m\u001b[0;34m\u001b[0m\u001b[0;34m\u001b[0m\u001b[0m\n\u001b[1;32m    141\u001b[0m                 \u001b[0mline\u001b[0m \u001b[0;34m=\u001b[0m \u001b[0mscript\u001b[0m\u001b[0;34m\u001b[0m\u001b[0;34m\u001b[0m\u001b[0m\n\u001b[0;32m--> 142\u001b[0;31m             \u001b[0;32mreturn\u001b[0m \u001b[0mself\u001b[0m\u001b[0;34m.\u001b[0m\u001b[0mshebang\u001b[0m\u001b[0;34m(\u001b[0m\u001b[0mline\u001b[0m\u001b[0;34m,\u001b[0m \u001b[0mcell\u001b[0m\u001b[0;34m)\u001b[0m\u001b[0;34m\u001b[0m\u001b[0;34m\u001b[0m\u001b[0m\n\u001b[0m\u001b[1;32m    143\u001b[0m \u001b[0;34m\u001b[0m\u001b[0m\n\u001b[1;32m    144\u001b[0m         \u001b[0;31m# write a basic docstring:\u001b[0m\u001b[0;34m\u001b[0m\u001b[0;34m\u001b[0m\u001b[0;34m\u001b[0m\u001b[0m\n",
      "\u001b[0;32m<decorator-gen-103>\u001b[0m in \u001b[0;36mshebang\u001b[0;34m(self, line, cell)\u001b[0m\n",
      "\u001b[0;32m/mnt/d/xFootball/JCI/jci_iot/.env/lib/python3.7/site-packages/IPython/core/magic.py\u001b[0m in \u001b[0;36m<lambda>\u001b[0;34m(f, *a, **k)\u001b[0m\n\u001b[1;32m    185\u001b[0m     \u001b[0;31m# but it's overkill for just that one bit of state.\u001b[0m\u001b[0;34m\u001b[0m\u001b[0;34m\u001b[0m\u001b[0;34m\u001b[0m\u001b[0m\n\u001b[1;32m    186\u001b[0m     \u001b[0;32mdef\u001b[0m \u001b[0mmagic_deco\u001b[0m\u001b[0;34m(\u001b[0m\u001b[0marg\u001b[0m\u001b[0;34m)\u001b[0m\u001b[0;34m:\u001b[0m\u001b[0;34m\u001b[0m\u001b[0;34m\u001b[0m\u001b[0m\n\u001b[0;32m--> 187\u001b[0;31m         \u001b[0mcall\u001b[0m \u001b[0;34m=\u001b[0m \u001b[0;32mlambda\u001b[0m \u001b[0mf\u001b[0m\u001b[0;34m,\u001b[0m \u001b[0;34m*\u001b[0m\u001b[0ma\u001b[0m\u001b[0;34m,\u001b[0m \u001b[0;34m**\u001b[0m\u001b[0mk\u001b[0m\u001b[0;34m:\u001b[0m \u001b[0mf\u001b[0m\u001b[0;34m(\u001b[0m\u001b[0;34m*\u001b[0m\u001b[0ma\u001b[0m\u001b[0;34m,\u001b[0m \u001b[0;34m**\u001b[0m\u001b[0mk\u001b[0m\u001b[0;34m)\u001b[0m\u001b[0;34m\u001b[0m\u001b[0;34m\u001b[0m\u001b[0m\n\u001b[0m\u001b[1;32m    188\u001b[0m \u001b[0;34m\u001b[0m\u001b[0m\n\u001b[1;32m    189\u001b[0m         \u001b[0;32mif\u001b[0m \u001b[0mcallable\u001b[0m\u001b[0;34m(\u001b[0m\u001b[0marg\u001b[0m\u001b[0;34m)\u001b[0m\u001b[0;34m:\u001b[0m\u001b[0;34m\u001b[0m\u001b[0;34m\u001b[0m\u001b[0m\n",
      "\u001b[0;32m/mnt/d/xFootball/JCI/jci_iot/.env/lib/python3.7/site-packages/IPython/core/magics/script.py\u001b[0m in \u001b[0;36mshebang\u001b[0;34m(self, line, cell)\u001b[0m\n\u001b[1;32m    243\u001b[0m             \u001b[0msys\u001b[0m\u001b[0;34m.\u001b[0m\u001b[0mstderr\u001b[0m\u001b[0;34m.\u001b[0m\u001b[0mflush\u001b[0m\u001b[0;34m(\u001b[0m\u001b[0;34m)\u001b[0m\u001b[0;34m\u001b[0m\u001b[0;34m\u001b[0m\u001b[0m\n\u001b[1;32m    244\u001b[0m         \u001b[0;32mif\u001b[0m \u001b[0margs\u001b[0m\u001b[0;34m.\u001b[0m\u001b[0mraise_error\u001b[0m \u001b[0;32mand\u001b[0m \u001b[0mp\u001b[0m\u001b[0;34m.\u001b[0m\u001b[0mreturncode\u001b[0m\u001b[0;34m!=\u001b[0m\u001b[0;36m0\u001b[0m\u001b[0;34m:\u001b[0m\u001b[0;34m\u001b[0m\u001b[0;34m\u001b[0m\u001b[0m\n\u001b[0;32m--> 245\u001b[0;31m             \u001b[0;32mraise\u001b[0m \u001b[0mCalledProcessError\u001b[0m\u001b[0;34m(\u001b[0m\u001b[0mp\u001b[0m\u001b[0;34m.\u001b[0m\u001b[0mreturncode\u001b[0m\u001b[0;34m,\u001b[0m \u001b[0mcell\u001b[0m\u001b[0;34m,\u001b[0m \u001b[0moutput\u001b[0m\u001b[0;34m=\u001b[0m\u001b[0mout\u001b[0m\u001b[0;34m,\u001b[0m \u001b[0mstderr\u001b[0m\u001b[0;34m=\u001b[0m\u001b[0merr\u001b[0m\u001b[0;34m)\u001b[0m\u001b[0;34m\u001b[0m\u001b[0;34m\u001b[0m\u001b[0m\n\u001b[0m\u001b[1;32m    246\u001b[0m \u001b[0;34m\u001b[0m\u001b[0m\n\u001b[1;32m    247\u001b[0m     \u001b[0;32mdef\u001b[0m \u001b[0m_run_script\u001b[0m\u001b[0;34m(\u001b[0m\u001b[0mself\u001b[0m\u001b[0;34m,\u001b[0m \u001b[0mp\u001b[0m\u001b[0;34m,\u001b[0m \u001b[0mcell\u001b[0m\u001b[0;34m,\u001b[0m \u001b[0mto_close\u001b[0m\u001b[0;34m)\u001b[0m\u001b[0;34m:\u001b[0m\u001b[0;34m\u001b[0m\u001b[0;34m\u001b[0m\u001b[0m\n",
      "\u001b[0;31mCalledProcessError\u001b[0m: Command 'b'python -m pip install --user jupyter_contrib_nbextensions  \\njupyter contrib nbextension install --user --skip-running-check  \\npython -m pip install --user jupyter_nbextensions_configurator  \\njupyter nbextensions_configurator enable --user  \\n'' returned non-zero exit status 1."
     ]
    }
   ],
   "source": [
    "%%sh\n",
    "python -m pip install --user jupyter_contrib_nbextensions  \n",
    "jupyter contrib nbextension install --user --skip-running-check  \n",
    "python -m pip install --user jupyter_nbextensions_configurator  \n",
    "jupyter nbextensions_configurator enable --user  "
   ]
  }
 ],
 "metadata": {
  "kernelspec": {
   "display_name": "Python 3",
   "language": "python",
   "name": "python3"
  },
  "language_info": {
   "codemirror_mode": {
    "name": "ipython",
    "version": 3
   },
   "file_extension": ".py",
   "mimetype": "text/x-python",
   "name": "python",
   "nbconvert_exporter": "python",
   "pygments_lexer": "ipython3",
   "version": "3.7.9"
  }
 },
 "nbformat": 4,
 "nbformat_minor": 4
}
